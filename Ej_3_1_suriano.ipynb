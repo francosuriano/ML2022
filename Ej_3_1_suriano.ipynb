{
  "nbformat": 4,
  "nbformat_minor": 0,
  "metadata": {
    "colab": {
      "provenance": [],
      "collapsed_sections": [],
      "authorship_tag": "ABX9TyN0b16AwrYL1F38ybHilqRH",
      "include_colab_link": true
    },
    "kernelspec": {
      "name": "python3",
      "display_name": "Python 3"
    },
    "language_info": {
      "name": "python"
    }
  },
  "cells": [
    {
      "cell_type": "markdown",
      "metadata": {
        "id": "view-in-github",
        "colab_type": "text"
      },
      "source": [
        "<a href=\"https://colab.research.google.com/github/francosuriano/ML2022/blob/main/Ej_3_1_suriano.ipynb\" target=\"_parent\"><img src=\"https://colab.research.google.com/assets/colab-badge.svg\" alt=\"Open In Colab\"/></a>"
      ]
    },
    {
      "cell_type": "markdown",
      "source": [
        "# Clase 3: Ejercicio 3.1"
      ],
      "metadata": {
        "id": "a9K_VYMVHFA9"
      }
    },
    {
      "cell_type": "code",
      "source": [
        "# Importamos las librerias necesarias\n",
        "\n",
        "import numpy as np\n",
        "import pandas as pd\n",
        "from matplotlib import pyplot as plt\n",
        "from sklearn import neighbors\n",
        "from sklearn.model_selection import train_test_split\n",
        "import sklearn as sklearn\n",
        "from sklearn.metrics import classification_report"
      ],
      "metadata": {
        "id": "_-nPl7jKjcCn"
      },
      "execution_count": null,
      "outputs": []
    },
    {
      "cell_type": "code",
      "source": [
        "# Se elaboran los dos datasets distintos\n",
        "# media (origen) y desvio estandar (dispersion) distintos para ambos datasets\n",
        "\n",
        "data1 = {'x': np.random.normal(0,2,100),'y': np.random.normal(0,2,100), 'target': np.zeros(100)}\n",
        "df1 = pd.DataFrame(data1)\n",
        "  \n",
        "data2 = {'x': np.random.normal(6,4,100),'y': np.random.normal(6,4,100), 'target': np.ones(100)}\n",
        "df2 = pd.DataFrame(data2)\n",
        "\n",
        "df = pd.concat([df1,df2])"
      ],
      "metadata": {
        "id": "JU7Tr1LusfxW"
      },
      "execution_count": null,
      "outputs": []
    },
    {
      "cell_type": "code",
      "source": [
        "# Visualización de los datos y su target.\n",
        "\n",
        "plt.figure(figsize=(5, 4))\n",
        "plt.scatter(df['x'],df['y'], c=df['target'])"
      ],
      "metadata": {
        "colab": {
          "base_uri": "https://localhost:8080/",
          "height": 282
        },
        "id": "LUT2fC5JIq4Z",
        "outputId": "f3ce0cfb-e645-4703-a0d4-45cc38c33f60"
      },
      "execution_count": null,
      "outputs": [
        {
          "output_type": "execute_result",
          "data": {
            "text/plain": [
              "<matplotlib.collections.PathCollection at 0x7fd72f4d1710>"
            ]
          },
          "metadata": {},
          "execution_count": 11
        },
        {
          "output_type": "display_data",
          "data": {
            "text/plain": [
              "<Figure size 360x288 with 1 Axes>"
            ],
            "image/png": "[encoded data removed]"
          },
          "metadata": {
            "needs_background": "light"
          }
        }
      ]
    },
    {
      "cell_type": "code",
      "source": [
        "# elección de la cantidad de vecinos\n",
        "k = 10\n",
        "\n",
        "# separacion de datos de training y testeo (X son los valores XeY y Y es el target)\n",
        "X_train, X_test, y_train, y_test = train_test_split(df[['x','y']], df['target'], test_size=0.2, random_state=20)\n",
        "\n",
        "# llamada al modelo de entrenamiento\n",
        "knn = neighbors.KNeighborsClassifier(n_neighbors=k)\n",
        "knn.fit(X_train, y_train)"
      ],
      "metadata": {
        "colab": {
          "base_uri": "https://localhost:8080/"
        },
        "id": "1ksVYOfIlElG",
        "outputId": "73d17fb8-a10c-44e7-85fe-41abfe6358e2"
      },
      "execution_count": null,
      "outputs": [
        {
          "output_type": "execute_result",
          "data": {
            "text/plain": [
              "KNeighborsClassifier(n_neighbors=10)"
            ]
          },
          "metadata": {},
          "execution_count": 12
        }
      ]
    },
    {
      "cell_type": "code",
      "source": [
        "# Medidas de validez\n",
        "\n",
        "# Prueba para varios k\n",
        "\n",
        "vecinos = np.arange(1, 40)\n",
        "score = np.empty(len(vecinos))\n",
        " \n",
        "for i, k in enumerate(vecinos):\n",
        "    # se entrena en cada iteracion \n",
        "    knn = neighbors.KNeighborsClassifier(n_neighbors=k)\n",
        "    knn.fit(X_train, y_train)\n",
        "    # y se evalua el score sobre el conjunto de testeo\n",
        "    score[i] = knn.score(X_test, y_test)\n",
        "\n",
        "plt.title('Score KNN')\n",
        "plt.plot(vecinos,score)\n",
        "plt.xlabel('K')\n",
        "plt.ylabel('Score')\n",
        "plt.show()"
      ],
      "metadata": {
        "colab": {
          "base_uri": "https://localhost:8080/",
          "height": 295
        },
        "id": "BUneSTmXpM-M",
        "outputId": "a335c673-debf-4f5f-bf17-cf28e96ced94"
      },
      "execution_count": null,
      "outputs": [
        {
          "output_type": "display_data",
          "data": {
            "text/plain": [
              "<Figure size 432x288 with 1 Axes>"
            ],
            "image/png": "[encoded data removed]"
          },
          "metadata": {
            "needs_background": "light"
          }
        }
      ]
    },
    {
      "cell_type": "code",
      "source": [
        "# Elegimos el número de vecinos que determina el máximo score: (si hay varios, se muestra el menor)\n",
        "\n",
        "max_k = max(score)\n",
        "k = min([index for index, item in enumerate(score) if item == max_k])\n",
        "print('numero de vecinos óptimo:' , k,'. Score logrado: ', max_k)"
      ],
      "metadata": {
        "colab": {
          "base_uri": "https://localhost:8080/"
        },
        "id": "8fVGmeRHLgWT",
        "outputId": "4bdfd423-0d22-4e40-f9bd-d2801f280960"
      },
      "execution_count": null,
      "outputs": [
        {
          "output_type": "stream",
          "name": "stdout",
          "text": [
            "numero de vecinos óptimo: 2 . Score logrado:  0.95\n"
          ]
        }
      ]
    },
    {
      "cell_type": "markdown",
      "source": [
        "Se observa que, mientras mas solapados estén los datasets, más vecinos se necesitan para llegar buenos valores de exactitud. Por otro lado, mientras mas separados y demarcados estén los conjuntos, menos vecinos son necesarios (comportamiento esperable, ya que es mas sencillo clasificar si se tienen separaciones claras entre los datasets)."
      ],
      "metadata": {
        "id": "56jJAchy0KHp"
      }
    },
    {
      "cell_type": "code",
      "source": [
        "# Modelo final con el k que maximiza el score\n",
        "\n",
        "\n",
        "# separacion de datos de training y testeo (X son los valores XeY y Y es el target)\n",
        "X_train, X_test, y_train, y_test = train_test_split(df[['x','y']], df['target'], test_size=0.2, random_state=20)\n",
        "\n",
        "# llamada al modelo de entrenamiento\n",
        "knn = neighbors.KNeighborsClassifier(n_neighbors=np.uint8(k))\n",
        "knn.fit(X_train, y_train)\n",
        "\n",
        "\n",
        "# Testeo para una prueba o conjunto\n",
        "\n",
        "target_exp = y_test\n",
        "target_pred= knn.predict(X_test)\n",
        "\n",
        "# Reporte de métricas automatico que incluye: RECALL, F1-SCORE, SCORE, etc.\n",
        "\n",
        "print(classification_report(target_exp, target_pred))\n",
        "\n",
        "# Calculamos también la matriz de confusión:\n",
        "\n",
        "print(sklearn.metrics.confusion_matrix(target_exp, target_pred))\n"
      ],
      "metadata": {
        "id": "rrBexYvUlJHk",
        "colab": {
          "base_uri": "https://localhost:8080/"
        },
        "outputId": "bd675b48-0dc0-43c3-b77c-2c5314ee6ff6"
      },
      "execution_count": null,
      "outputs": [
        {
          "output_type": "stream",
          "name": "stdout",
          "text": [
            "              precision    recall  f1-score   support\n",
            "\n",
            "         0.0       0.82      1.00      0.90        14\n",
            "         1.0       1.00      0.88      0.94        26\n",
            "\n",
            "    accuracy                           0.93        40\n",
            "   macro avg       0.91      0.94      0.92        40\n",
            "weighted avg       0.94      0.93      0.93        40\n",
            "\n",
            "[[14  0]\n",
            " [ 3 23]]\n"
          ]
        }
      ]
    }
  ]
}