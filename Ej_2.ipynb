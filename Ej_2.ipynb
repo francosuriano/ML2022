{
  "nbformat": 4,
  "nbformat_minor": 0,
  "metadata": {
    "colab": {
      "provenance": [],
      "collapsed_sections": [],
      "authorship_tag": "ABX9TyPPTiez8BzTiF0QTfvAXqUs",
      "include_colab_link": true
    },
    "kernelspec": {
      "name": "python3",
      "display_name": "Python 3"
    },
    "language_info": {
      "name": "python"
    }
  },
  "cells": [
    {
      "cell_type": "markdown",
      "metadata": {
        "id": "view-in-github",
        "colab_type": "text"
      },
      "source": [
        "<a href=\"https://colab.research.google.com/github/francosuriano/ML2022/blob/main/Ej_2.ipynb\" target=\"_parent\"><img src=\"https://colab.research.google.com/assets/colab-badge.svg\" alt=\"Open In Colab\"/></a>"
      ]
    },
    {
      "cell_type": "code",
      "source": [
        "# Cargamos las librerias necesarias\n",
        "\n",
        "import numpy as np\n",
        "import matplotlib.pyplot as plt\n",
        "import seaborn as sns\n",
        "import pandas as pd\n"
      ],
      "metadata": {
        "id": "dMGMazh8GCPb"
      },
      "execution_count": null,
      "outputs": []
    },
    {
      "cell_type": "code",
      "execution_count": null,
      "metadata": {
        "id": "wfcFFGykrC8I"
      },
      "outputs": [],
      "source": [
        "# se elaboran los dos datasets distintos\n",
        "# media (origen) y desvio estandar (dispersion) distintos para ambos datasets\n",
        "\n",
        "data1 = {'x': np.random.normal(0,2,50),'target': 'A'}\n",
        "df1 = pd.DataFrame(data1)\n",
        "data2 = {'x': np.random.normal(4,6,50),'target':'B'}\n",
        "df2 = pd.DataFrame(data2)\n",
        "\n",
        "df = pd.concat([df1,df2])\n"
      ]
    },
    {
      "cell_type": "code",
      "source": [
        "# observamos los histogramas\n",
        "\n",
        "fig=plt.figure(figsize=(8,8))\n",
        "ax=fig.add_subplot()\n",
        "df1[['x']].hist(bins=10,ax=ax,alpha=0.5)\n",
        "df2[['x']].hist(bins=10,ax=ax,alpha=0.5)\n",
        "plt.show()"
      ],
      "metadata": {
        "colab": {
          "base_uri": "https://localhost:8080/",
          "height": 499
        },
        "id": "gDQPzoKYI6Rc",
        "outputId": "628b2c2a-ca6d-4891-b1d9-c59e16353078"
      },
      "execution_count": null,
      "outputs": [
        {
          "output_type": "display_data",
          "data": {
            "text/plain": [
              "<Figure size 576x576 with 1 Axes>"
            ],
            "image/png": "[encoded data removed]"
          },
          "metadata": {
            "needs_background": "light"
          }
        }
      ]
    },
    {
      "cell_type": "code",
      "source": [
        "import matplotlib.pyplot as plt\n",
        "from sklearn import datasets, metrics, model_selection, svm\n",
        "\n",
        "# armamos la curva roc\n",
        "\n",
        "X_train, X_test, y_train, y_test = model_selection.train_test_split(df[['x']], df[['target']], random_state=0)\n",
        "clf = svm.SVC(random_state=0)\n",
        "clf.fit(X_train, y_train)\n",
        "metrics.plot_roc_curve(clf, X_test, y_test)\n",
        "plt.show()"
      ],
      "metadata": {
        "colab": {
          "base_uri": "https://localhost:8080/",
          "height": 368
        },
        "id": "Kgdo-kh7GSAP",
        "outputId": "c8ea3738-c149-4d1a-d510-6a6daa643fe6"
      },
      "execution_count": null,
      "outputs": [
        {
          "output_type": "stream",
          "name": "stderr",
          "text": [
            "/usr/local/lib/python3.7/dist-packages/sklearn/utils/validation.py:993: DataConversionWarning: A column-vector y was passed when a 1d array was expected. Please change the shape of y to (n_samples, ), for example using ravel().\n",
            "  y = column_or_1d(y, warn=True)\n",
            "/usr/local/lib/python3.7/dist-packages/sklearn/utils/deprecation.py:87: FutureWarning: Function plot_roc_curve is deprecated; Function :func:`plot_roc_curve` is deprecated in 1.0 and will be removed in 1.2. Use one of the class methods: :meth:`sklearn.metric.RocCurveDisplay.from_predictions` or :meth:`sklearn.metric.RocCurveDisplay.from_estimator`.\n",
            "  warnings.warn(msg, category=FutureWarning)\n"
          ]
        },
        {
          "output_type": "display_data",
          "data": {
            "text/plain": [
              "<Figure size 432x288 with 1 Axes>"
            ],
            "image/png": "[encoded data removed]"
          },
          "metadata": {
            "needs_background": "light"
          }
        }
      ]
    },
    {
      "cell_type": "code",
      "source": [
        "t, roc = roc_curve_values(df_sort['dataset'], 'A', N)\n",
        "\n",
        "dist_min = np.inf\n",
        "i_min = 0\n",
        "par_min = (0,0)\n",
        "for i in range(t.shape[0]):\n",
        "  par = (t[i],roc[i])\n",
        "  dist = np.sqrt(par[0]**2 + (par[1]-1)**2)\n",
        "  if dist<dist_min:\n",
        "    dist_min = dist\n",
        "    i_min = i\n",
        "    par_min = par\n",
        "\n",
        "umbral = (valores[i_min] + valores[i_min-1])/2\n",
        "\n",
        "print(\"Punto mas cercano (FPR_optimo, TPR_optimo): \", t[i_min],roc[i_min])\n",
        "print(\"Umbral óptimo: \",umbral)"
      ],
      "metadata": {
        "id": "qMTK8hsc61RO"
      },
      "execution_count": null,
      "outputs": []
    }
  ]
}